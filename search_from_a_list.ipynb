{
 "cells": [
  {
   "cell_type": "code",
   "execution_count": 1,
   "metadata": {},
   "outputs": [],
   "source": [
    "try: #if for some reason file doesnt exist or it has been renamed:\n",
    "    infile = open(r'C:\\Users\\Korab\\Desktop\\accounting.txt', 'r')\n",
    "except FileNotFoundError:\n",
    "    print(\"File not found\")"
   ]
  },
  {
   "cell_type": "code",
   "execution_count": 2,
   "metadata": {},
   "outputs": [],
   "source": [
    "#infile = open(r'C:\\Users\\Korab\\Desktop\\accounting.txt', 'r')\n",
    "count = 0\n",
    "my_dict = {}\n",
    "keys=[]\n",
    "\n",
    "while True:   \n",
    "    # Get next line from file \n",
    "    line = infile.readline() \n",
    "    # if line is empty # end of file is reached \n",
    "    if not line: \n",
    "        break\n",
    "    keys.append(format(line.strip())) \n",
    "    #keys.append(line) \n",
    "    count += 1\n",
    "    \n",
    "o=0 #read every third line as the code of a course is found in every third line\n",
    "keys_numbers=[]\n",
    "for j in range(int(51/3)):\n",
    "    keys_numbers.append(o)\n",
    "    o+=3\n",
    "\n",
    "for i in keys_numbers:\n",
    "    my_dict[keys[i]] = keys[i+1], keys[i+2]\n",
    "\n",
    "# close the file as we do not need it anymore\n",
    "infile.close()  "
   ]
  },
  {
   "cell_type": "code",
   "execution_count": null,
   "metadata": {},
   "outputs": [],
   "source": [
    "answer = \" \"\n",
    "while answer !=\"\":\n",
    "    answer = input(\"Select one of the options:\\nA) Display all the data, or\\nB) Use course code to search the database!\\nC) Exit\\n\")\n",
    "    if answer.lower() == \"a\":\n",
    "        for i in my_dict:\n",
    "            print(i, \":\", my_dict[i])\n",
    "\n",
    "    \n",
    "    if answer.lower() == \"b\":\n",
    "        course_code = input(\"What is the course code:\")\n",
    "        \n",
    "       \n",
    "        if course_code in my_dict:\n",
    "            \n",
    "            print(course_code, \":\", my_dict[course_code])\n",
    "        else:\n",
    "            print(\"This course could not be found\")\n",
    "    \n",
    "    if answer.lower() == \"c\":\n",
    "        print(\"Bye\")\n",
    "        break\n",
    "    choices=[\"a\",\"b\",\"c\",\"A\",\"B\",\"C\"] # make sure no error inputs are given\n",
    "    if answer not in(choices):\n",
    "        print(\"Wrong data entered\\n\")"
   ]
  },
  {
   "cell_type": "code",
   "execution_count": 10,
   "metadata": {},
   "outputs": [],
   "source": [
    "\n"
   ]
  },
  {
   "cell_type": "code",
   "execution_count": null,
   "metadata": {},
   "outputs": [],
   "source": []
  }
 ],
 "metadata": {
  "kernelspec": {
   "display_name": "Python 3",
   "language": "python",
   "name": "python3"
  },
  "language_info": {
   "codemirror_mode": {
    "name": "ipython",
    "version": 3
   },
   "file_extension": ".py",
   "mimetype": "text/x-python",
   "name": "python",
   "nbconvert_exporter": "python",
   "pygments_lexer": "ipython3",
   "version": "3.8.3"
  }
 },
 "nbformat": 4,
 "nbformat_minor": 4
}
