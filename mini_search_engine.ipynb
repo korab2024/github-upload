{
 "cells": [
  {
   "cell_type": "raw",
   "metadata": {},
   "source": [
    "Write a program that creates a dictionary containing course numbers and the room\n",
    "numbers of the rooms where the courses meet. The dictionary should have the\n",
    "following key-value pairs:\n",
    "CS101                            3004\n",
    "CS102                            4501\n",
    "CS103                            6755\n",
    "NT110                            1244\n",
    "CM241                            1411\n",
    "\n",
    "The program should also create a dictionary containing course numbers and the\n",
    "names of the instructors that teach each course. The dictionary should have the\n",
    "following key-value pairs:\n",
    "Course Number (key) Instructor (value)\n",
    "CS101                            Haynes\n",
    "CS102                            Alvarado\n",
    "CS103                            Rich\n",
    "NT110                            Burke\n",
    "CM241                            Lee\n",
    "\n",
    "The program should also create a dictionary containing course numbers and the\n",
    "meeting times of each course. The dictionary should have the following key-value\n",
    "pairs:\n",
    "Course Number (key) Meeting Time (value)\n",
    "CS101                            8:00 a.m.\n",
    "CS102                            9:00 a.m.\n",
    "CS103                            10:00 a.m.\n",
    "NT110                            11:00 a.m.\n",
    "CM241                            1:00 p.m.\n",
    "\n",
    "** The program should let the user enter a course number, then it should display the\n",
    "course’s room number, instructor, and meeting time."
   ]
  },
  {
   "cell_type": "code",
   "execution_count": 2,
   "metadata": {},
   "outputs": [
    {
     "name": "stdout",
     "output_type": "stream",
     "text": [
      "{'CIS101': 'Haynes', 'CIS102': 'Alvarado', 'CIS103': 'Rich', 'NT110': 'Burke', 'CM241': 'Lee'}\n",
      "{'CIS101': '8:00AM', 'CIS102': '9:00AM', 'CIS103': '10:00AM', 'NT110': '11:00AM', 'CM241': '1:00PM'}\n"
     ]
    }
   ],
   "source": [
    "# create a dictionary manually\n",
    "course_room = {'CIS101':'3004','CIS102':'4501','CIS103':'6755','NT110':'1244','CM241':'1411'}\n",
    "\n",
    "\n",
    "# lsits to be converted to dictionary, to make the search possible/easy\n",
    "course_num = ['CIS101', 'CIS102','CIS103','NT110', 'CM241']\n",
    "instructor = ['Haynes','Alvarado','Rich','Burke','Lee']\n",
    "meet_times = ['8:00AM','9:00AM','10:00AM','11:00AM','1:00PM']\n",
    "\n",
    "# empty dictionaries to be used later\n",
    "course_inst={}\n",
    "course_time_dict ={}\n",
    "\n",
    "# for loop to iterate and add key:values int othe respective dictionaries\n",
    "for key in course_num:\n",
    "    for value in instructor:\n",
    "        course_inst[key]= value\n",
    "        instructor.remove(value)\n",
    "        break\n",
    "print(course_inst)\n",
    "\n",
    "for key in course_num:\n",
    "    for value in meet_times:\n",
    "        course_time_dict[key]=value\n",
    "        meet_times.remove(value)\n",
    "        break\n",
    "        \n",
    "print(course_time_dict)\n",
    "\n"
   ]
  },
  {
   "cell_type": "code",
   "execution_count": 3,
   "metadata": {},
   "outputs": [
    {
     "name": "stdout",
     "output_type": "stream",
     "text": [
      "Enter a course number: CIS103\n",
      "Course:  CIS103 , Room number:  6755 , Instructor:  Rich , Meeting time:  10:00AM\n"
     ]
    }
   ],
   "source": [
    "\n",
    "answer = input(\"Enter a course number: \")\n",
    "\n",
    "room_number = course_room[answer]\n",
    "instr_name = course_inst[answer]\n",
    "meet_timeZ = course_time_dict[answer]\n",
    "print(\"Course: \",answer, \", Room number: \", room_number, \", Instructor: \", instr_name, \", Meeting time: \", meet_timeZ)"
   ]
  },
  {
   "cell_type": "code",
   "execution_count": null,
   "metadata": {},
   "outputs": [],
   "source": [
    "# course’s room number, instructor, and meeting time."
   ]
  }
 ],
 "metadata": {
  "kernelspec": {
   "display_name": "Python 3",
   "language": "python",
   "name": "python3"
  },
  "language_info": {
   "codemirror_mode": {
    "name": "ipython",
    "version": 3
   },
   "file_extension": ".py",
   "mimetype": "text/x-python",
   "name": "python",
   "nbconvert_exporter": "python",
   "pygments_lexer": "ipython3",
   "version": "3.8.3"
  }
 },
 "nbformat": 4,
 "nbformat_minor": 4
}
