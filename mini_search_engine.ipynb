{
 "cells": [
  {
   "cell_type": "raw",
   "metadata": {},
   "source": [
    "Write a program that creates a dictionary containing course numbers and the room\n",
    "numbers of the rooms where the courses meet. The dictionary should have the\n",
    "following key-value pairs:\n",
    "Course Number (key) Room Number (value)\n",
    "CS101                            3004\n",
    "CS102                            4501\n",
    "CS103                            6755\n",
    "NT110                            1244\n",
    "CM241                            1411\n",
    "\n",
    "The program should also create a dictionary containing course numbers and the\n",
    "names of the instructors that teach each course. The dictionary should have the\n",
    "following key-value pairs:\n",
    "Course Number (key) Instructor (value)\n",
    "CS101                            Haynes\n",
    "CS102                            Alvarado\n",
    "CS103                            Rich\n",
    "NT110                            Burke\n",
    "CM241                            Lee\n",
    "\n",
    "The program should also create a dictionary containing course numbers and the\n",
    "meeting times of each course. The dictionary should have the following key-value\n",
    "pairs:\n",
    "Course Number (key) Meeting Time (value)\n",
    "CS101                            8:00 a.m.\n",
    "CS102                            9:00 a.m.\n",
    "CS103                            10:00 a.m.\n",
    "NT110                            11:00 a.m.\n",
    "CM241                            1:00 p.m.\n",
    "\n",
    "** The program should let the user enter a course number, then it should display the\n",
    "course’s room number, instructor, and meeting time."
   ]
  },
  {
   "cell_type": "code",
   "execution_count": 1,
   "metadata": {},
   "outputs": [
    {
     "name": "stdout",
     "output_type": "stream",
     "text": [
      "{'CIS101': 'Haynes', 'CIS102': 'Alvarado', 'CIS103': 'Rich', 'NT110': 'Burke', 'CM241': 'Lee'}\n",
      "{'CIS101': '8:00AM', 'CIS102': '9:00AM', 'CIS103': '10:00AM', 'NT110': '11:00AM', 'CM241': '1:00PM'}\n"
     ]
    }
   ],
   "source": [
    "# create a dictionary manually\n",
    "course_room = {'CIS101':'3004','CIS102':'4501','CIS103':'6755','NT110':'1244','CM241':'1411'}\n",
    "\n",
    "\n",
    "# lsits to be converted to dictionary, to make the search possible/easy\n",
    "course_num = ['CIS101', 'CIS102','CIS103','NT110', 'CM241']\n",
    "instructor = ['Haynes','Alvarado','Rich','Burke','Lee']\n",
    "meet_times = ['8:00AM','9:00AM','10:00AM','11:00AM','1:00PM']\n",
    "\n",
    "# empty dictionaries to be used later\n",
    "course_inst={}\n",
    "course_time_dict ={}\n",
    "\n",
    "# for loop to iterate and add key:values int othe respective dictionaries\n",
    "for key in course_num:\n",
    "    for value in instructor:\n",
    "        course_inst[key]= value\n",
    "        instructor.remove(value)\n",
    "        break\n",
    "print(course_inst)\n",
    "\n",
    "for key in course_num:\n",
    "    for value in meet_times:\n",
    "        course_time_dict[key]=value\n",
    "        meet_times.remove(value)\n",
    "        break\n",
    "        \n",
    "print(course_time_dict)\n",
    "\n"
   ]
  },
  {
   "cell_type": "code",
   "execution_count": 3,
   "metadata": {},
   "outputs": [
    {
     "name": "stdout",
     "output_type": "stream",
     "text": [
      "This program helps user to search/find using a course code, Room number, instructor and meeting time\n"
     ]
    },
    {
     "ename": "KeyboardInterrupt",
     "evalue": "Interrupted by user",
     "output_type": "error",
     "traceback": [
      "\u001b[1;31m---------------------------------------------------------------------------\u001b[0m",
      "\u001b[1;31mKeyboardInterrupt\u001b[0m                         Traceback (most recent call last)",
      "\u001b[1;32m<ipython-input-3-7669356743d0>\u001b[0m in \u001b[0;36m<module>\u001b[1;34m\u001b[0m\n\u001b[0;32m      1\u001b[0m \u001b[0mprint\u001b[0m\u001b[1;33m(\u001b[0m\u001b[1;34m\"This program helps user to search/find using a course code, Room number, instructor and meeting time\"\u001b[0m\u001b[1;33m)\u001b[0m\u001b[1;33m\u001b[0m\u001b[1;33m\u001b[0m\u001b[0m\n\u001b[1;32m----> 2\u001b[1;33m \u001b[0manswer\u001b[0m \u001b[1;33m=\u001b[0m \u001b[0minput\u001b[0m\u001b[1;33m(\u001b[0m\u001b[1;34m\"Enter a course number: \"\u001b[0m\u001b[1;33m)\u001b[0m\u001b[1;33m\u001b[0m\u001b[1;33m\u001b[0m\u001b[0m\n\u001b[0m\u001b[0;32m      3\u001b[0m \u001b[1;33m\u001b[0m\u001b[0m\n\u001b[0;32m      4\u001b[0m \u001b[0mroom_number\u001b[0m \u001b[1;33m=\u001b[0m \u001b[0mcourse_room\u001b[0m\u001b[1;33m[\u001b[0m\u001b[0manswer\u001b[0m\u001b[1;33m]\u001b[0m\u001b[1;33m\u001b[0m\u001b[1;33m\u001b[0m\u001b[0m\n\u001b[0;32m      5\u001b[0m \u001b[0minstr_name\u001b[0m \u001b[1;33m=\u001b[0m \u001b[0mcourse_inst\u001b[0m\u001b[1;33m[\u001b[0m\u001b[0manswer\u001b[0m\u001b[1;33m]\u001b[0m\u001b[1;33m\u001b[0m\u001b[1;33m\u001b[0m\u001b[0m\n",
      "\u001b[1;32m~\\Anaconda3\\lib\\site-packages\\ipykernel\\kernelbase.py\u001b[0m in \u001b[0;36mraw_input\u001b[1;34m(self, prompt)\u001b[0m\n\u001b[0;32m    858\u001b[0m                 \u001b[1;34m\"raw_input was called, but this frontend does not support input requests.\"\u001b[0m\u001b[1;33m\u001b[0m\u001b[1;33m\u001b[0m\u001b[0m\n\u001b[0;32m    859\u001b[0m             )\n\u001b[1;32m--> 860\u001b[1;33m         return self._input_request(str(prompt),\n\u001b[0m\u001b[0;32m    861\u001b[0m             \u001b[0mself\u001b[0m\u001b[1;33m.\u001b[0m\u001b[0m_parent_ident\u001b[0m\u001b[1;33m,\u001b[0m\u001b[1;33m\u001b[0m\u001b[1;33m\u001b[0m\u001b[0m\n\u001b[0;32m    862\u001b[0m             \u001b[0mself\u001b[0m\u001b[1;33m.\u001b[0m\u001b[0m_parent_header\u001b[0m\u001b[1;33m,\u001b[0m\u001b[1;33m\u001b[0m\u001b[1;33m\u001b[0m\u001b[0m\n",
      "\u001b[1;32m~\\Anaconda3\\lib\\site-packages\\ipykernel\\kernelbase.py\u001b[0m in \u001b[0;36m_input_request\u001b[1;34m(self, prompt, ident, parent, password)\u001b[0m\n\u001b[0;32m    902\u001b[0m             \u001b[1;32mexcept\u001b[0m \u001b[0mKeyboardInterrupt\u001b[0m\u001b[1;33m:\u001b[0m\u001b[1;33m\u001b[0m\u001b[1;33m\u001b[0m\u001b[0m\n\u001b[0;32m    903\u001b[0m                 \u001b[1;31m# re-raise KeyboardInterrupt, to truncate traceback\u001b[0m\u001b[1;33m\u001b[0m\u001b[1;33m\u001b[0m\u001b[1;33m\u001b[0m\u001b[0m\n\u001b[1;32m--> 904\u001b[1;33m                 \u001b[1;32mraise\u001b[0m \u001b[0mKeyboardInterrupt\u001b[0m\u001b[1;33m(\u001b[0m\u001b[1;34m\"Interrupted by user\"\u001b[0m\u001b[1;33m)\u001b[0m \u001b[1;32mfrom\u001b[0m \u001b[1;32mNone\u001b[0m\u001b[1;33m\u001b[0m\u001b[1;33m\u001b[0m\u001b[0m\n\u001b[0m\u001b[0;32m    905\u001b[0m             \u001b[1;32mexcept\u001b[0m \u001b[0mException\u001b[0m \u001b[1;32mas\u001b[0m \u001b[0me\u001b[0m\u001b[1;33m:\u001b[0m\u001b[1;33m\u001b[0m\u001b[1;33m\u001b[0m\u001b[0m\n\u001b[0;32m    906\u001b[0m                 \u001b[0mself\u001b[0m\u001b[1;33m.\u001b[0m\u001b[0mlog\u001b[0m\u001b[1;33m.\u001b[0m\u001b[0mwarning\u001b[0m\u001b[1;33m(\u001b[0m\u001b[1;34m\"Invalid Message:\"\u001b[0m\u001b[1;33m,\u001b[0m \u001b[0mexc_info\u001b[0m\u001b[1;33m=\u001b[0m\u001b[1;32mTrue\u001b[0m\u001b[1;33m)\u001b[0m\u001b[1;33m\u001b[0m\u001b[1;33m\u001b[0m\u001b[0m\n",
      "\u001b[1;31mKeyboardInterrupt\u001b[0m: Interrupted by user"
     ]
    }
   ],
   "source": [
    "print(\"This program helps user to search/find using a course code, Room number, instructor and meeting time\")\n",
    "answer = input(\"Enter a course number: \")\n",
    "\n",
    "room_number = course_room[answer]\n",
    "instr_name = course_inst[answer]\n",
    "meet_timeZ = course_time_dict[answer]\n",
    "print(\"Course: \",answer, \", Room number: \", room_number, \", Instructor: \", instr_name, \", Meeting time: \", meet_timeZ)"
   ]
  },
  {
   "cell_type": "code",
   "execution_count": null,
   "metadata": {},
   "outputs": [],
   "source": [
    "# course’s room number, instructor, and meeting time."
   ]
  }
 ],
 "metadata": {
  "kernelspec": {
   "display_name": "Python 3",
   "language": "python",
   "name": "python3"
  },
  "language_info": {
   "codemirror_mode": {
    "name": "ipython",
    "version": 3
   },
   "file_extension": ".py",
   "mimetype": "text/x-python",
   "name": "python",
   "nbconvert_exporter": "python",
   "pygments_lexer": "ipython3",
   "version": "3.8.3"
  }
 },
 "nbformat": 4,
 "nbformat_minor": 4
}
